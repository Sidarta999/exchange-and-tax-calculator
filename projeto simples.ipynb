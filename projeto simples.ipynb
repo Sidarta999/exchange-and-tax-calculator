{
 "cells": [
  {
   "cell_type": "code",
   "execution_count": 1,
   "id": "090b4548-de69-4479-91fc-69569fc02d4a",
   "metadata": {
    "scrolled": true
   },
   "outputs": [
    {
     "name": "stdout",
     "output_type": "stream",
     "text": [
      "Calculadora de Impostos com Conversão de Real para Dólar\n"
     ]
    },
    {
     "name": "stdin",
     "output_type": "stream",
     "text": [
      "Digite o valor em Reais:  600.00\n",
      "Digite a taxa do imposto (%):  50\n"
     ]
    },
    {
     "name": "stdout",
     "output_type": "stream",
     "text": [
      "\n",
      "Valor original em Reais: R$ 600.00\n",
      "Imposto a pagar: R$ 300.00\n",
      "Total a pagar (com imposto): R$ 900.00\n",
      "Valor convertido para Dólares: USD 98.85\n"
     ]
    }
   ],
   "source": [
    "import requests\n",
    "\n",
    "# Função para obter a taxa de câmbio de Real para Dólar usando a API\n",
    "def conversao_real_para_dolar(valor_real):\n",
    "    url = \"https://v6.exchangerate-api.com/v6/b4510d7b34906bc3d2735a55/latest/USD\"\n",
    "    \n",
    "    # Fazendo a requisição GET à API\n",
    "    response = requests.get(url)\n",
    "    \n",
    "    # Verificando se a resposta foi bem-sucedida (status 200)\n",
    "    if response.status_code == 200:\n",
    "        data = response.json()\n",
    "        # Obtendo a taxa de conversão de BRL para USD (Dólar para Real)\n",
    "        taxa_cambio = data['conversion_rates']['BRL']\n",
    "        \n",
    "        # Convertendo Real para Dólar: 1 Real = 1 / taxa_cambio Dólares\n",
    "        valor_convertido = valor_real / taxa_cambio\n",
    "        return valor_convertido\n",
    "    else:\n",
    "        print(f\"Erro ao acessar a API: {response.status_code}\")\n",
    "        return None\n",
    "\n",
    "# Função para calcular o imposto\n",
    "def calcular_imposto(valor, taxa_imposto):\n",
    "    return valor * (taxa_imposto / 100)\n",
    "\n",
    "# Função principal\n",
    "def calculadora_imposto_com_cambio():\n",
    "    print(\"Calculadora de Impostos com Conversão de Real para Dólar\")\n",
    "\n",
    "    # Entrada de dados para o valor em Real\n",
    "    valor_real = float(input(\"Digite o valor em Reais: \"))\n",
    "    \n",
    "    # Taxa de imposto\n",
    "    taxa_imposto = float(input(\"Digite a taxa do imposto (%): \"))\n",
    "    \n",
    "    # Cálculo do imposto\n",
    "    imposto = calcular_imposto(valor_real, taxa_imposto)\n",
    "    \n",
    "    # Calculando o valor total com imposto\n",
    "    total_com_imposto = valor_real + imposto\n",
    "    \n",
    "    # Obtendo a conversão de Real para Dólar\n",
    "    valor_dolar = conversao_real_para_dolar(valor_real)\n",
    "\n",
    "    # Exibindo os resultados\n",
    "    print(f\"\\nValor original em Reais: R$ {valor_real:.2f}\")\n",
    "    print(f\"Imposto a pagar: R$ {imposto:.2f}\")\n",
    "    print(f\"Total a pagar (com imposto): R$ {total_com_imposto:.2f}\")\n",
    "    if valor_dolar is not None:\n",
    "        print(f\"Valor convertido para Dólares: USD {valor_dolar:.2f}\")\n",
    "\n",
    "# Chamando a função principal\n",
    "calculadora_imposto_com_cambio()\n"
   ]
  },
  {
   "cell_type": "code",
   "execution_count": null,
   "id": "9be635e0-3468-482e-aa2c-2c69320d459c",
   "metadata": {},
   "outputs": [],
   "source": []
  }
 ],
 "metadata": {
  "kernelspec": {
   "display_name": "Python 3 (ipykernel)",
   "language": "python",
   "name": "python3"
  },
  "language_info": {
   "codemirror_mode": {
    "name": "ipython",
    "version": 3
   },
   "file_extension": ".py",
   "mimetype": "text/x-python",
   "name": "python",
   "nbconvert_exporter": "python",
   "pygments_lexer": "ipython3",
   "version": "3.12.6"
  }
 },
 "nbformat": 4,
 "nbformat_minor": 5
}
